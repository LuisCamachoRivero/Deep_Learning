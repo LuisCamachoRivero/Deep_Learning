{
    "cells": [
        {
            "cell_type": "markdown",
            "metadata": {},
            "source": [
                "# Explore here"
            ]
        },
        {
            "cell_type": "code",
            "execution_count": 1,
            "metadata": {},
            "outputs": [],
            "source": [
                "# Your code here\n",
                "\n",
                "import shutil\n",
                "import os"
            ]
        },
        {
            "cell_type": "code",
            "execution_count": 7,
            "metadata": {},
            "outputs": [],
            "source": [
                "def separar_imagenes(ruta_carpeta):\n",
                "    archivos = os.listdir(ruta_carpeta)\n",
                "    for archivo in archivos:\n",
                "        if archivo.startswith('dog'):\n",
                "            destino = os.path.join(ruta_carpeta,'Dogs')\n",
                "        elif archivo.startswith('cat'):\n",
                "            destino = os.path.join(ruta_carpeta, 'Cat')\n",
                "        else:\n",
                "            pass\n",
                "        shutil.move(os.path.joint(ruta_carpeta,archivo),destino)"
            ]
        },
        {
            "cell_type": "code",
            "execution_count": 16,
            "metadata": {},
            "outputs": [],
            "source": [
                "def separar_imagenes2(ruta_carpeta):\n",
                "    archivos = os.listdir(ruta_carpeta)\n",
                "\n",
                "    for archivo in archivos:\n",
                "        archivo_completo = os.path.join(ruta_carpeta, archivo)\n",
                "        \n",
                "        if archivo.startswith('dog'):\n",
                "            destino = carpeta_dogs\n",
                "        elif archivo.startswith('cat'):\n",
                "            destino = carpeta_cats\n",
                "        else:\n",
                "            continue\n",
                "        shutil.move(archivo_completo, destino)"
            ]
        },
        {
            "cell_type": "code",
            "execution_count": 17,
            "metadata": {},
            "outputs": [],
            "source": [
                "separar_imagenes2('/workspaces/Deep_Learning/data/raw/train')"
            ]
        },
        {
            "cell_type": "code",
            "execution_count": 6,
            "metadata": {},
            "outputs": [
                {
                    "ename": "ModuleNotFoundError",
                    "evalue": "No module named 'matplotlib'",
                    "output_type": "error",
                    "traceback": [
                        "\u001b[0;31m---------------------------------------------------------------------------\u001b[0m",
                        "\u001b[0;31mModuleNotFoundError\u001b[0m                       Traceback (most recent call last)",
                        "Cell \u001b[0;32mIn[6], line 2\u001b[0m\n\u001b[1;32m      1\u001b[0m \u001b[38;5;28;01mfrom\u001b[39;00m \u001b[38;5;21;01mkeras\u001b[39;00m\u001b[38;5;21;01m.\u001b[39;00m\u001b[38;5;21;01mpreprocessing\u001b[39;00m \u001b[38;5;28;01mimport\u001b[39;00m image\n\u001b[0;32m----> 2\u001b[0m \u001b[38;5;28;01mimport\u001b[39;00m \u001b[38;5;21;01mmatplotlib\u001b[39;00m\u001b[38;5;21;01m.\u001b[39;00m\u001b[38;5;21;01mpyplot\u001b[39;00m \u001b[38;5;28;01mas\u001b[39;00m \u001b[38;5;21;01mplt\u001b[39;00m\n\u001b[1;32m      4\u001b[0m data_dir \u001b[38;5;241m=\u001b[39m \u001b[38;5;124m'\u001b[39m\u001b[38;5;124m../data/raw/train\u001b[39m\u001b[38;5;124m'\u001b[39m\n\u001b[1;32m      5\u001b[0m subfolder_dog \u001b[38;5;241m=\u001b[39m os\u001b[38;5;241m.\u001b[39mpath\u001b[38;5;241m.\u001b[39mjoin(data_dir,\u001b[38;5;124m'\u001b[39m\u001b[38;5;124mDogs\u001b[39m\u001b[38;5;124m'\u001b[39m)\n",
                        "\u001b[0;31mModuleNotFoundError\u001b[0m: No module named 'matplotlib'"
                    ]
                }
            ],
            "source": [
                "from keras.preprocessing import image\n",
                "import matplotlib.pyplot as plt\n",
                "\n",
                "data_dir = '../data/raw/train'\n",
                "subfolder_dog = os.path.join(data_dir,'Dogs')\n",
                "\n",
                "imagenes_perros = os.listdir(subfolder_dog)\n",
                "\n",
                "dog_imagenes = os.listdir(subfolder_dog)\n",
                "\n",
                "for i in range(9):\n",
                "    "
            ]
        }
    ],
    "metadata": {
        "kernelspec": {
            "display_name": "Python 3",
            "language": "python",
            "name": "python3"
        },
        "language_info": {
            "codemirror_mode": {
                "name": "ipython",
                "version": 3
            },
            "file_extension": ".py",
            "mimetype": "text/x-python",
            "name": "python",
            "nbconvert_exporter": "python",
            "pygments_lexer": "ipython3",
            "version": "3.10.12"
        },
        "orig_nbformat": 4
    },
    "nbformat": 4,
    "nbformat_minor": 2
}
